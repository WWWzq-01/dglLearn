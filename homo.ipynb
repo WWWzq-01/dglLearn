{
 "cells": [
  {
   "cell_type": "code",
   "execution_count": 3,
   "metadata": {},
   "outputs": [
    {
     "name": "stdout",
     "output_type": "stream",
     "text": [
      "tensor([[ 0.0403, -0.0008,  0.0063,  ..., -0.0345,  0.0178,  0.0447],\n",
      "        [ 0.0179, -0.0354, -0.0155,  ..., -0.0504, -0.0490, -0.0315],\n",
      "        [-0.0477, -0.0102, -0.0100,  ...,  0.0467, -0.0511,  0.0440],\n",
      "        ...,\n",
      "        [ 0.0100, -0.0376,  0.0127,  ...,  0.0264,  0.0070,  0.0134],\n",
      "        [-0.0349,  0.0113, -0.0057,  ...,  0.0588, -0.0412,  0.0116],\n",
      "        [ 0.0017, -0.0298, -0.0174,  ..., -0.0522,  0.0024, -0.0374]])\n",
      "tensor([[40073, 78219],\n",
      "        [78219, 40073],\n",
      "        [40073, 96565],\n",
      "        ...,\n",
      "        [65110, 28558],\n",
      "        [28558, 32466],\n",
      "        [32466, 28558]])\n",
      "tensor([ 3., 12.,  8.,  ..., 12.,  8.,  3.])\n"
     ]
    }
   ],
   "source": [
    "import dgl\n",
    "import torch \n",
    "import os.path as osp\n",
    "import numpy as np\n",
    "\n",
    "path = '/Users/wzq/Projects/datasets/igb_datasets/tiny'\n",
    "\n",
    "feat_path = osp.join(path, 'processed','paper','node_feat.npy')\n",
    "edge_path = osp.join(path, 'processed','paper__cites__paper','edge_index.npy')\n",
    "node_label_path = osp.join(path, 'processed','paper','node_label_19.npy')\n",
    "\n",
    "node_feat_np = np.load(feat_path)\n",
    "edge_np = np.load(edge_path)\n",
    "node_label_np = np.load(node_label_path)\n",
    "\n",
    "node_features = torch.from_numpy(node_feat_np)\n",
    "node_edges = torch.from_numpy(edge_np)\n",
    "node_label = torch.from_numpy(node_label_np)\n",
    "\n",
    "print(node_features)\n",
    "print(node_edges)\n",
    "print(node_label)"
   ]
  },
  {
   "cell_type": "code",
   "execution_count": 4,
   "metadata": {},
   "outputs": [
    {
     "name": "stdout",
     "output_type": "stream",
     "text": [
      "torch.Size([100000, 1024])\n",
      "tensor([[ 0.0403, -0.0008,  0.0063,  ..., -0.0345,  0.0178,  0.0447],\n",
      "        [ 0.0179, -0.0354, -0.0155,  ..., -0.0504, -0.0490, -0.0315],\n",
      "        [-0.0477, -0.0102, -0.0100,  ...,  0.0467, -0.0511,  0.0440],\n",
      "        ...,\n",
      "        [ 0.0100, -0.0376,  0.0127,  ...,  0.0264,  0.0070,  0.0134],\n",
      "        [-0.0349,  0.0113, -0.0057,  ...,  0.0588, -0.0412,  0.0116],\n",
      "        [ 0.0017, -0.0298, -0.0174,  ..., -0.0522,  0.0024, -0.0374]])\n"
     ]
    }
   ],
   "source": [
    "print(node_features.shape)\n",
    "print(node_features)"
   ]
  },
  {
   "cell_type": "code",
   "execution_count": 5,
   "metadata": {},
   "outputs": [
    {
     "name": "stdout",
     "output_type": "stream",
     "text": [
      "torch.Size([447416, 2])\n",
      "tensor([[40073, 78219],\n",
      "        [78219, 40073],\n",
      "        [40073, 96565],\n",
      "        ...,\n",
      "        [65110, 28558],\n",
      "        [28558, 32466],\n",
      "        [32466, 28558]])\n"
     ]
    }
   ],
   "source": [
    "print(node_edges.shape)\n",
    "print(node_edges)"
   ]
  },
  {
   "cell_type": "code",
   "execution_count": 6,
   "metadata": {},
   "outputs": [
    {
     "data": {
      "text/plain": [
       "tensor([40073, 78219, 40073,  ..., 65110, 28558, 32466])"
      ]
     },
     "execution_count": 6,
     "metadata": {},
     "output_type": "execute_result"
    }
   ],
   "source": [
    "node_edges[:,0]"
   ]
  },
  {
   "cell_type": "code",
   "execution_count": 7,
   "metadata": {},
   "outputs": [
    {
     "name": "stdout",
     "output_type": "stream",
     "text": [
      "torch.Size([100000])\n",
      "tensor([ 3., 12.,  8.,  ..., 12.,  8.,  3.])\n"
     ]
    }
   ],
   "source": [
    "print(node_label.shape)\n",
    "print(node_label)"
   ]
  },
  {
   "cell_type": "code",
   "execution_count": 8,
   "metadata": {},
   "outputs": [
    {
     "name": "stdout",
     "output_type": "stream",
     "text": [
      "Graph(num_nodes=100000, num_edges=447416,\n",
      "      ndata_schemes={}\n",
      "      edata_schemes={})\n",
      "graph:  {'created': ['coo'], 'not created': ['csr', 'csc']}\n"
     ]
    }
   ],
   "source": [
    "graph = dgl.graph((node_edges[:, 0],node_edges[:, 1]), num_nodes=node_features.shape[0])\n",
    "print(graph)\n",
    "print(\"graph: \", graph.formats())"
   ]
  },
  {
   "cell_type": "code",
   "execution_count": 10,
   "metadata": {},
   "outputs": [
    {
     "name": "stdout",
     "output_type": "stream",
     "text": [
      "tensor([[ 0.0403, -0.0008,  0.0063,  ..., -0.0345,  0.0178,  0.0447],\n",
      "        [ 0.0179, -0.0354, -0.0155,  ..., -0.0504, -0.0490, -0.0315],\n",
      "        [-0.0477, -0.0102, -0.0100,  ...,  0.0467, -0.0511,  0.0440],\n",
      "        ...,\n",
      "        [ 0.0100, -0.0376,  0.0127,  ...,  0.0264,  0.0070,  0.0134],\n",
      "        [-0.0349,  0.0113, -0.0057,  ...,  0.0588, -0.0412,  0.0116],\n",
      "        [ 0.0017, -0.0298, -0.0174,  ..., -0.0522,  0.0024, -0.0374]])\n",
      "tensor([ 3., 12.,  8.,  ..., 12.,  8.,  3.])\n",
      "Graph(num_nodes=100000, num_edges=447416,\n",
      "      ndata_schemes={'feat': Scheme(shape=(1024,), dtype=torch.float32), 'label': Scheme(shape=(), dtype=torch.float32)}\n",
      "      edata_schemes={})\n"
     ]
    }
   ],
   "source": [
    "graph.ndata['feat'] = node_features\n",
    "graph.ndata['label'] = node_label\n",
    "\n",
    "print(graph.ndata['feat'])\n",
    "print(graph.ndata['label'])\n",
    "print(graph)"
   ]
  },
  {
   "cell_type": "code",
   "execution_count": 11,
   "metadata": {},
   "outputs": [
    {
     "data": {
      "text/plain": [
       "Graph(num_nodes=100000, num_edges=547416,\n",
       "      ndata_schemes={'feat': Scheme(shape=(1024,), dtype=torch.float32), 'label': Scheme(shape=(), dtype=torch.float32)}\n",
       "      edata_schemes={})"
      ]
     },
     "execution_count": 11,
     "metadata": {},
     "output_type": "execute_result"
    }
   ],
   "source": [
    "graph = dgl.remove_self_loop(graph)\n",
    "graph = dgl.add_self_loop(graph)\n",
    "graph"
   ]
  },
  {
   "cell_type": "code",
   "execution_count": null,
   "metadata": {},
   "outputs": [],
   "source": []
  }
 ],
 "metadata": {
  "kernelspec": {
   "display_name": "dgl",
   "language": "python",
   "name": "python3"
  },
  "language_info": {
   "codemirror_mode": {
    "name": "ipython",
    "version": 3
   },
   "file_extension": ".py",
   "mimetype": "text/x-python",
   "name": "python",
   "nbconvert_exporter": "python",
   "pygments_lexer": "ipython3",
   "version": "3.9.19"
  }
 },
 "nbformat": 4,
 "nbformat_minor": 2
}
